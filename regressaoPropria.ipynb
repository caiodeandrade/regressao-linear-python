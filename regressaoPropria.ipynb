{
 "cells": [
  {
   "cell_type": "markdown",
   "metadata": {},
   "source": [
    "Minhas funções e bibliotecas importadas:"
   ]
  },
  {
   "cell_type": "code",
   "execution_count": 3,
   "metadata": {},
   "outputs": [],
   "source": [
    "import pandas as pd\n",
    "import matplotlib.pyplot as plt\n",
    "import numpy as np\n",
    "\n",
    "def somatorioQuadrado(x):\n",
    "    aux = 0\n",
    "    for i in x:\n",
    "        aux += i**2\n",
    "    \n",
    "    return aux\n",
    "\n",
    "def somatorio(x):\n",
    "    aux = 0\n",
    "    for i in x:\n",
    "        aux += i\n",
    "    \n",
    "    return aux\n",
    "\n",
    "def somatorioXY(X, Y):\n",
    "    aux = 0\n",
    "    for i in range(len(X)):\n",
    "        aux = aux + X[i]*Y[i]\n",
    "\n",
    "    return aux\n",
    "\n",
    "\n",
    "def regressaoA(x, y):\n",
    "    n = len(x) + 1\n",
    "    cima = (n * somatorioXY(x, y)) - (somatorio(x) * somatorio(y))\n",
    "    baixo = (n * somatorioQuadrado(x)) - (somatorio(x)**2)\n",
    "        \n",
    "    return cima/baixo\n",
    "\n",
    "def regressaoB(x, y):\n",
    "    n = len(x) + 1\n",
    "    cima = (somatorioQuadrado(x)*somatorio(y)) - (somatorio(x)*somatorioXY(x,y))\n",
    "    baixo = (n * somatorioQuadrado(x)) - (somatorio(x)**2)\n",
    "\n",
    "    return cima/baixo\n",
    "\n",
    "def regressaoY(x, y):\n",
    "    a = regressaoA(x, y)\n",
    "    b = regressaoB(x, y)\n",
    "\n",
    "    aux = []\n",
    "    for i in x:\n",
    "        aux.append(a*i + b)\n",
    "    \n",
    "    return aux"
   ]
  },
  {
   "cell_type": "markdown",
   "metadata": {},
   "source": [
    "Selecionando as colunas do arquivo .xls e tranformando em arrays:"
   ]
  },
  {
   "cell_type": "code",
   "execution_count": 4,
   "metadata": {},
   "outputs": [],
   "source": [
    "df = pd.read_excel(\"C:\\\\Users\\\\Caio\\\\Faculdade\\\\analDados\\\\avContinua\\\\ipeadata[23-09-2022-03-03].xls\")\n",
    "\n",
    "eixo_x = np.array(list(df.iloc[:, 0])).reshape(-1,1)\n",
    "eixo_y = np.array(list(df.iloc[:, 1]))"
   ]
  },
  {
   "cell_type": "markdown",
   "metadata": {},
   "source": [
    "Plotando o gráfico da regressão com as minhas funções:"
   ]
  },
  {
   "cell_type": "code",
   "execution_count": 5,
   "metadata": {},
   "outputs": [
    {
     "data": {
      "image/png": "[encoded data removed]",
      "text/plain": [
       "<Figure size 720x360 with 1 Axes>"
      ]
     },
     "metadata": {
      "needs_background": "light"
     },
     "output_type": "display_data"
    }
   ],
   "source": [
    "a = regressaoA(eixo_x, eixo_y)\n",
    "b = regressaoB(eixo_x, eixo_y)\n",
    "\n",
    "reta_aprox = regressaoY(eixo_x, eixo_y)\n",
    "\n",
    "plt.figure(figsize=(10, 5))\n",
    "plt.scatter(eixo_x, eixo_y, label='Valores observados')\n",
    "plt.plot(eixo_x, reta_aprox, label=\"Valores Esperados\")\n",
    "plt.xlabel('Eixo x')\n",
    "plt.ylabel('Eixo y')\n",
    "plt.title(\"Regressão Linear Simples \")\n",
    "plt.legend();"
   ]
  }
 ],
 "metadata": {
  "kernelspec": {
   "display_name": "Python 3.10.6 64-bit",
   "language": "python",
   "name": "python3"
  },
  "language_info": {
   "codemirror_mode": {
    "name": "ipython",
    "version": 3
   },
   "file_extension": ".py",
   "mimetype": "text/x-python",
   "name": "python",
   "nbconvert_exporter": "python",
   "pygments_lexer": "ipython3",
   "version": "3.10.6"
  },
  "orig_nbformat": 4,
  "vscode": {
   "interpreter": {
    "hash": "9cbdc75d9e2f55d2d9002e3a3bcb34fdd032c5e2f75dfba8f134282fc3e89518"
   }
  }
 },
 "nbformat": 4,
 "nbformat_minor": 2
}
